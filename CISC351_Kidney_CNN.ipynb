{
 "cells": [
  {
   "cell_type": "code",
   "execution_count": 1,
   "id": "appreciated-vegetation",
   "metadata": {},
   "outputs": [],
   "source": [
    "import os\n",
    "import re\n",
    "import numpy as np\n",
    "import json\n",
    "from random import shuffle\n",
    "from PIL import Image\n",
    "import matplotlib.pyplot as plt\n",
    "\n",
    "\n",
    "label = json.load(open('D://CISC351//Group_Project_Data//CCRCC.json','r'))"
   ]
  },
  {
   "cell_type": "code",
   "execution_count": 2,
   "id": "administrative-finland",
   "metadata": {},
   "outputs": [
    {
     "data": {
      "text/plain": [
       "'\"_id\",\"Case_ID\",\"Specimen_ID\",\"Slide_ID\",\"Tumor\",\"Topographic_Site\",\"Specimen_Type\",\"Weight\",\"Tumor_Site\",\"Pathology\",\"Tumor_Histological_Type\",\"Tumor_Segment_Acceptable\",\"Percent_Tumor_Nuclei\",\"Percent_Total_Cellularity\",\"Percent_Necrosis\",\"Normal Segment Free of Tumor\",\"HasRadiology\",\"Radiology\",\"Genomics\",\"Proteomics\",\"Genomics_Available\",\"GDC Link\",\"Proteomics_Available\",\"PDC Link\",\"Gender\",\"Age\",\"Vital status at 12months follow up\",\"Vital status at 24months follow up\",\"Ethnicity\",\"Race\",\"Fully Qualified\"'"
      ]
     },
     "execution_count": 2,
     "metadata": {},
     "output_type": "execute_result"
    }
   ],
   "source": [
    "f = open(\"cohort.csv\",\"r\")\n",
    "all_dict = {} # id: subcategory\n",
    "allFiles = f.read()\n",
    "allFiles = allFiles.split('\\n')\n",
    "allFiles.pop(0)"
   ]
  },
  {
   "cell_type": "code",
   "execution_count": 3,
   "id": "planned-syntax",
   "metadata": {},
   "outputs": [],
   "source": [
    "for i in range(len(allFiles)):\n",
    "    allFiles[i] = allFiles[i].split(',')\n",
    "    all_dict[allFiles[i][3]] = allFiles[i][6]"
   ]
  },
  {
   "cell_type": "code",
   "execution_count": 4,
   "id": "extensive-jacksonville",
   "metadata": {},
   "outputs": [
    {
     "name": "stdout",
     "output_type": "stream",
     "text": [
      "782\n"
     ]
    }
   ],
   "source": [
    "imgDir = os.listdir(\".//CCRCC_JPEG\")\n",
    "\n",
    "r = re.compile(\".*dzi\")\n",
    "\n",
    "newlist = list(filter(r.match,imgDir))\n",
    "for d in newlist:\n",
    "    imgDir.remove(d)\n",
    "\n",
    "print(len(imgDir))"
   ]
  },
  {
   "cell_type": "code",
   "execution_count": 5,
   "id": "indoor-soviet",
   "metadata": {},
   "outputs": [],
   "source": [
    "def crop(input):\n",
    "    im = Image.open(input)\n",
    "    imgwidth, imgheight = im.size\n",
    "    \n",
    "    box = (224, 224, 288, 288)\n",
    "    a = im.crop(box)\n",
    "    #o.save(os.path.join(path,\"PNG\",\"%s\" % page,\"IMG-%s.png\" % k))\n",
    "    return a       \n",
    "\n",
    "def load_training_data():\n",
    "    train_data = []\n",
    "    \n",
    "    k = 1\n",
    "    #for j in range(len(imgDir)):\n",
    "    for j in range(0, 102):\n",
    "        print(k)\n",
    "        k = k+1\n",
    "        if (all_dict['\"'+imgDir[j].replace('_files','')+'\"']==\"normal_tissue\"):\n",
    "            label = np.array([1,0])\n",
    "        else:\n",
    "            label = np.array([0,1])\n",
    "        \n",
    "        for img in os.listdir(\".//CCRCC_JPEG//\"+imgDir[j]+\"//20.0\"):\n",
    "            path = os.path.join(\".\\\\CCRCC_JPEG\\\\\"+imgDir[j]+\"\\\\20.0\", img)\n",
    "            \n",
    "            #img = Image.open(path)\n",
    "            img = crop(path)\n",
    "            train_data.append([np.array(img), label])\n",
    "            \n",
    "    \n",
    "    shuffle(train_data)\n",
    "    return train_data"
   ]
  },
  {
   "cell_type": "code",
   "execution_count": 6,
   "id": "infinite-patrol",
   "metadata": {},
   "outputs": [],
   "source": [
    "def load_test_data():\n",
    "    train_data = []\n",
    "    \n",
    "    k = 1\n",
    "    #for j in range(len(imgDir)):\n",
    "    for j in range(0,103):\n",
    "        print(j)\n",
    "        # Checking label. Didn't like the string written as \"normal_tissue\" for whatever reason\n",
    "        if (all_dict['\"'+imgDir[j].replace('_files','')+'\"']==all_dict['\"'+imgDir[1].replace('_files','')+'\"']):\n",
    "            label = np.array([1,0])\n",
    "        else:\n",
    "            label = np.array([0,1])\n",
    "        \n",
    "        for img in os.listdir(\".//CCRCC_JPEG//\"+imgDir[j]+\"//20.0\"):\n",
    "            path = os.path.join(\".\\\\CCRCC_JPEG\\\\\"+imgDir[j]+\"\\\\20.0\", img)\n",
    "            img = Image.open(path)\n",
    "            train_data.append([np.array(img), label])\n",
    "        \n",
    "        print(label)\n",
    "    \n",
    "    shuffle(train_data)\n",
    "    return train_data"
   ]
  },
  {
   "cell_type": "code",
   "execution_count": 7,
   "id": "satisfied-domain",
   "metadata": {},
   "outputs": [
    {
     "name": "stdout",
     "output_type": "stream",
     "text": [
      "\"normal_tissue\"\n"
     ]
    }
   ],
   "source": [
    "print(all_dict['\"'+imgDir[103].replace('_files','')+'\"'])"
   ]
  },
  {
   "cell_type": "code",
   "execution_count": null,
   "id": "facial-titanium",
   "metadata": {},
   "outputs": [],
   "source": []
  },
  {
   "cell_type": "code",
   "execution_count": null,
   "id": "billion-merchant",
   "metadata": {},
   "outputs": [],
   "source": [
    "# function creates tensors that are too large for memory. Need to figure out another way to build the tensors. Number of images per directory found in the next cell.\n",
    "im = load_training_data()\n",
    "plt.imshow(im[0][0])"
   ]
  },
  {
   "cell_type": "code",
   "execution_count": 9,
   "id": "premier-turkish",
   "metadata": {},
   "outputs": [
    {
     "name": "stderr",
     "output_type": "stream",
     "text": [
      "Using TensorFlow backend.\n"
     ]
    }
   ],
   "source": [
    "import tensorflow\n",
    "import keras\n",
    "from keras.models import Sequential\n",
    "from keras.layers import Dense, Dropout, Flatten\n",
    "from keras.layers import Conv2D, MaxPooling2D\n",
    "from keras.layers. normalization import BatchNormalization\n",
    "\n",
    "model = Sequential()"
   ]
  },
  {
   "cell_type": "code",
   "execution_count": 10,
   "id": "humanitarian-arabic",
   "metadata": {},
   "outputs": [
    {
     "name": "stdout",
     "output_type": "stream",
     "text": [
      "WARNING:tensorflow:From c:\\users\\ryan\\appdata\\local\\programs\\python\\python37\\lib\\site-packages\\tensorflow_core\\python\\ops\\resource_variable_ops.py:1630: calling BaseResourceVariable.__init__ (from tensorflow.python.ops.resource_variable_ops) with constraint is deprecated and will be removed in a future version.\n",
      "Instructions for updating:\n",
      "If using Keras pass *_constraint arguments to layers.\n",
      "WARNING:tensorflow:From c:\\users\\ryan\\appdata\\local\\programs\\python\\python37\\lib\\site-packages\\keras\\backend\\tensorflow_backend.py:4070: The name tf.nn.max_pool is deprecated. Please use tf.nn.max_pool2d instead.\n",
      "\n"
     ]
    }
   ],
   "source": [
    "img_height = 64\n",
    "img_width = 64\n",
    "\n",
    "model.add(Conv2D(32, kernel_size = (3, 3), activation='relu', input_shape=(img_height,img_width, 3)))\n",
    "model.add(MaxPooling2D(pool_size=(2,2)))\n",
    "model.add(BatchNormalization())\n",
    "model.add(Conv2D(64, kernel_size=(3,3), activation='relu'))\n",
    "model.add(MaxPooling2D(pool_size=(2,2)))\n",
    "model.add(BatchNormalization())\n",
    "model.add(Conv2D(96, kernel_size=(3,3), activation='relu'))\n",
    "model.add(Dropout(0.2))\n",
    "model.add(Flatten())\n",
    "model.add(Dense(256, activation='relu'))\n",
    "model.add(Dropout(0.2))\n",
    "model.add(Dense(128, activation='relu'))\n",
    "model.add(Dropout(0.3))\n",
    "model.add(Dense(2, activation = 'softmax'))"
   ]
  },
  {
   "cell_type": "code",
   "execution_count": 11,
   "id": "alone-pizza",
   "metadata": {},
   "outputs": [],
   "source": [
    "trainImages = np.array([i[0] for i in im]).reshape(-1, img_height, img_width, 3)\n",
    "trainLabels = np.array([i[1] for i in im],dtype = \"object\") "
   ]
  },
  {
   "cell_type": "code",
   "execution_count": 12,
   "id": "varying-devices",
   "metadata": {},
   "outputs": [],
   "source": [
    "trainImages = np.asarray(trainImages).astype(np.int)\n",
    "trainLabels = np.asarray(trainLabels).astype(np.int)"
   ]
  },
  {
   "cell_type": "code",
   "execution_count": 17,
   "id": "uniform-lloyd",
   "metadata": {},
   "outputs": [
    {
     "name": "stdout",
     "output_type": "stream",
     "text": [
      "[    0 35316]\n"
     ]
    }
   ],
   "source": [
    "print(sum(trainLabels))"
   ]
  },
  {
   "cell_type": "code",
   "execution_count": 13,
   "id": "micro-paraguay",
   "metadata": {},
   "outputs": [],
   "source": [
    "model.compile(loss='categorical_crossentropy', optimizer='adam', metrics = ['accuracy'])"
   ]
  },
  {
   "cell_type": "code",
   "execution_count": 14,
   "id": "standard-limitation",
   "metadata": {},
   "outputs": [
    {
     "name": "stdout",
     "output_type": "stream",
     "text": [
      "WARNING:tensorflow:From c:\\users\\ryan\\appdata\\local\\programs\\python\\python37\\lib\\site-packages\\keras\\backend\\tensorflow_backend.py:422: The name tf.global_variables is deprecated. Please use tf.compat.v1.global_variables instead.\n",
      "\n",
      "Epoch 1/3\n",
      "35316/35316 [==============================] - 32s 913us/step - loss: 0.0013 - accuracy: 0.9991s - loss: 0.0014 -  - ETA: 0s - loss: 0.0013 - accu\n",
      "Epoch 2/3\n",
      "35316/35316 [==============================] - 30s 859us/step - loss: 0.0000e+00 - accuracy: 1.0000\n",
      "Epoch 3/3\n",
      "35316/35316 [==============================] - 30s 854us/step - loss: 0.0000e+00 - accuracy: 1.0000\n"
     ]
    },
    {
     "data": {
      "text/plain": [
       "<keras.callbacks.callbacks.History at 0x19c0a646518>"
      ]
     },
     "execution_count": 14,
     "metadata": {},
     "output_type": "execute_result"
    }
   ],
   "source": [
    "model.fit(trainImages, trainLabels, batch_size = 50, epochs = 3, verbose = 1)"
   ]
  },
  {
   "cell_type": "code",
   "execution_count": 15,
   "id": "grave-administrator",
   "metadata": {},
   "outputs": [],
   "source": [
    "#im = load_test_data()"
   ]
  },
  {
   "cell_type": "code",
   "execution_count": 16,
   "id": "piano-spray",
   "metadata": {},
   "outputs": [
    {
     "ename": "NameError",
     "evalue": "name 'imkfg' is not defined",
     "output_type": "error",
     "traceback": [
      "\u001b[1;31m---------------------------------------------------------------------------\u001b[0m",
      "\u001b[1;31mNameError\u001b[0m                                 Traceback (most recent call last)",
      "\u001b[1;32m<ipython-input-16-82e67a68629e>\u001b[0m in \u001b[0;36m<module>\u001b[1;34m\u001b[0m\n\u001b[1;32m----> 1\u001b[1;33m \u001b[0mprint\u001b[0m\u001b[1;33m(\u001b[0m\u001b[0mimkfg\u001b[0m\u001b[1;33m[\u001b[0m\u001b[1;36m101\u001b[0m\u001b[1;33m]\u001b[0m\u001b[1;33m[\u001b[0m\u001b[1;36m1\u001b[0m\u001b[1;33m]\u001b[0m\u001b[1;33m)\u001b[0m\u001b[1;33m\u001b[0m\u001b[0m\n\u001b[0m",
      "\u001b[1;31mNameError\u001b[0m: name 'imkfg' is not defined"
     ]
    }
   ],
   "source": [
    "print(imkfg[101][1])"
   ]
  },
  {
   "cell_type": "code",
   "execution_count": null,
   "id": "intermediate-postage",
   "metadata": {},
   "outputs": [],
   "source": [
    "trainImages = np.array([i[0] for i in im]).reshape(-1, img_height, img_width, 3)\n",
    "trainLabels = np.array([i[1] for i in im],dtype = \"object\") \n",
    "trainImages = np.asarray(trainImages).astype(np.int)\n",
    "trainLabels = np.asarray(trainLabels).astype(np.int)\n",
    "print(trainImages.shape)"
   ]
  },
  {
   "cell_type": "code",
   "execution_count": null,
   "id": "steady-submission",
   "metadata": {},
   "outputs": [],
   "source": [
    "print(trainLabels)"
   ]
  },
  {
   "cell_type": "code",
   "execution_count": null,
   "id": "mediterranean-technical",
   "metadata": {},
   "outputs": [],
   "source": [
    "loss, acc = model.evaluate(trainImages, trainLabels, verbose = 0)\n",
    "print(acc * 100)"
   ]
  }
 ],
 "metadata": {
  "kernelspec": {
   "display_name": "Python 3",
   "language": "python",
   "name": "python3"
  },
  "language_info": {
   "codemirror_mode": {
    "name": "ipython",
    "version": 3
   },
   "file_extension": ".py",
   "mimetype": "text/x-python",
   "name": "python",
   "nbconvert_exporter": "python",
   "pygments_lexer": "ipython3",
   "version": "3.7.0"
  }
 },
 "nbformat": 4,
 "nbformat_minor": 5
}
