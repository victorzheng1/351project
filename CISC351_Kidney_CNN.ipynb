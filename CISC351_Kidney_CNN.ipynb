{
 "cells": [
  {
   "cell_type": "markdown",
   "id": "expected-twins",
   "metadata": {},
   "source": [
    "# Modeling and Predicting"
   ]
  },
  {
   "cell_type": "markdown",
   "id": "expensive-economy",
   "metadata": {},
   "source": [
    "## Load Clinical Data and Labels"
   ]
  },
  {
   "cell_type": "code",
   "execution_count": 33,
   "id": "logical-relationship",
   "metadata": {},
   "outputs": [],
   "source": [
    "import os\n",
    "import re\n",
    "import numpy as np\n",
    "import json\n",
    "from random import shuffle\n",
    "from PIL import Image\n",
    "import matplotlib.pyplot as plt\n",
    "\n",
    "label = json.load(open('D://CISC351//Group_Project_Data//CCRCC.json','r'))"
   ]
  },
  {
   "cell_type": "code",
   "execution_count": 34,
   "id": "drawn-venture",
   "metadata": {},
   "outputs": [
    {
     "data": {
      "text/plain": [
       "'\"_id\",\"Case_ID\",\"Specimen_ID\",\"Slide_ID\",\"Tumor\",\"Topographic_Site\",\"Specimen_Type\",\"Weight\",\"Tumor_Site\",\"Pathology\",\"Tumor_Histological_Type\",\"Tumor_Segment_Acceptable\",\"Percent_Tumor_Nuclei\",\"Percent_Total_Cellularity\",\"Percent_Necrosis\",\"Normal Segment Free of Tumor\",\"HasRadiology\",\"Radiology\",\"Genomics\",\"Proteomics\",\"Genomics_Available\",\"GDC Link\",\"Proteomics_Available\",\"PDC Link\",\"Gender\",\"Age\",\"Vital status at 12months follow up\",\"Vital status at 24months follow up\",\"Ethnicity\",\"Race\",\"Fully Qualified\"'"
      ]
     },
     "execution_count": 34,
     "metadata": {},
     "output_type": "execute_result"
    }
   ],
   "source": [
    "f = open(\"cohort.csv\",\"r\")\n",
    "all_dict = {} # id: subcategory\n",
    "allFiles = f.read()\n",
    "allFiles = allFiles.split('\\n')\n",
    "allFiles.pop(0)"
   ]
  },
  {
   "cell_type": "code",
   "execution_count": 35,
   "id": "south-negative",
   "metadata": {},
   "outputs": [],
   "source": [
    "for i in range(len(allFiles)):\n",
    "    allFiles[i] = allFiles[i].split(',')\n",
    "    all_dict[allFiles[i][3]] = allFiles[i][6]"
   ]
  },
  {
   "cell_type": "code",
   "execution_count": 36,
   "id": "therapeutic-advancement",
   "metadata": {},
   "outputs": [
    {
     "name": "stdout",
     "output_type": "stream",
     "text": [
      "782\n"
     ]
    }
   ],
   "source": [
    "imgDir = os.listdir(\".//CCRCC_JPEG\")\n",
    "\n",
    "r = re.compile(\".*dzi\")\n",
    "\n",
    "newlist = list(filter(r.match,imgDir))\n",
    "for d in newlist:\n",
    "    imgDir.remove(d)\n",
    "\n",
    "print(len(imgDir))"
   ]
  },
  {
   "cell_type": "markdown",
   "id": "fewer-luxembourg",
   "metadata": {},
   "source": [
    "## Load Training and Testing Image sets"
   ]
  },
  {
   "cell_type": "code",
   "execution_count": 37,
   "id": "touched-concentration",
   "metadata": {},
   "outputs": [],
   "source": [
    "def crop(input):\n",
    "    im = Image.open(input)\n",
    "    imgwidth, imgheight = im.size\n",
    "    \n",
    "    box = (224, 224, 288, 288)\n",
    "    a = im.crop(box)\n",
    "    #o.save(os.path.join(path,\"PNG\",\"%s\" % page,\"IMG-%s.png\" % k))\n",
    "    return a       \n",
    "\n",
    "def load_training_data():\n",
    "    train_data = []\n",
    "    \n",
    "    #for j in range(len(imgDir)):\n",
    "    for j in range(0, 5):\n",
    "        \n",
    "        if (all_dict['\"'+imgDir[j].replace('_files','')+'\"']==\"\\\"normal_tissue\\\"\"):\n",
    "            label = np.array([1,0])\n",
    "        \n",
    "        else:\n",
    "            label = np.array([0,1])\n",
    "                \n",
    "        for img in os.listdir(\".//CCRCC_JPEG//\"+imgDir[j]+\"//20.0\"):\n",
    "            path = os.path.join(\".\\\\CCRCC_JPEG\\\\\"+imgDir[j]+\"\\\\20.0\", img)\n",
    "            \n",
    "            #img = Image.open(path)\n",
    "            img = crop(path)\n",
    "            train_data.append([np.array(img), label])\n",
    "            \n",
    "    \n",
    "    shuffle(train_data)\n",
    "    return train_data"
   ]
  },
  {
   "cell_type": "code",
   "execution_count": 58,
   "id": "vanilla-dollar",
   "metadata": {},
   "outputs": [],
   "source": [
    "def load_test_data():\n",
    "    train_data = []\n",
    "    \n",
    "    #for j in range(len(imgDir)):\n",
    "    for j in range(100, 105):\n",
    "        \n",
    "        if (all_dict['\"'+imgDir[j].replace('_files','')+'\"']==\"\\\"normal_tissue\\\"\"):\n",
    "            label = np.array([1,0])\n",
    "        \n",
    "        else:\n",
    "            label = np.array([0,1])\n",
    "                \n",
    "        for img in os.listdir(\".//CCRCC_JPEG//\"+imgDir[j]+\"//20.0\"):\n",
    "            path = os.path.join(\".\\\\CCRCC_JPEG\\\\\"+imgDir[j]+\"\\\\20.0\", img)\n",
    "            \n",
    "            #img = Image.open(path)\n",
    "            img = crop(path)\n",
    "            train_data.append([np.array(img), label])\n",
    "    \n",
    "    shuffle(train_data)\n",
    "    return train_data"
   ]
  },
  {
   "cell_type": "code",
   "execution_count": 39,
   "id": "negative-colors",
   "metadata": {},
   "outputs": [
    {
     "data": {
      "text/plain": [
       "<matplotlib.image.AxesImage at 0x19c51331e80>"
      ]
     },
     "execution_count": 39,
     "metadata": {},
     "output_type": "execute_result"
    },
    {
     "data": {
      "image/png": "[encoded data removed]",
      "text/plain": [
       "<Figure size 432x288 with 1 Axes>"
      ]
     },
     "metadata": {
      "needs_background": "light"
     },
     "output_type": "display_data"
    }
   ],
   "source": [
    "# function creates tensors that are too large for memory. Need to figure out another way to build the tensors. Number of images per directory found in the next cell.\n",
    "im = load_training_data()\n",
    "plt.imshow(im[0][0])"
   ]
  },
  {
   "cell_type": "markdown",
   "id": "straight-fifty",
   "metadata": {},
   "source": [
    "## CNN Model Creation"
   ]
  },
  {
   "cell_type": "code",
   "execution_count": 40,
   "id": "super-sunday",
   "metadata": {},
   "outputs": [],
   "source": [
    "import tensorflow\n",
    "import keras\n",
    "from keras.models import Sequential\n",
    "from keras.layers import Dense, Dropout, Flatten\n",
    "from keras.layers import Conv2D, MaxPooling2D\n",
    "from keras.layers. normalization import BatchNormalization\n",
    "\n",
    "model = Sequential()"
   ]
  },
  {
   "cell_type": "code",
   "execution_count": 41,
   "id": "dirty-letter",
   "metadata": {},
   "outputs": [],
   "source": [
    "img_height = 64\n",
    "img_width = 64\n",
    "\n",
    "model.add(Conv2D(32, kernel_size = (3, 3), activation='relu', input_shape=(img_height,img_width, 3)))\n",
    "model.add(MaxPooling2D(pool_size=(2,2)))\n",
    "model.add(BatchNormalization())\n",
    "model.add(Conv2D(64, kernel_size=(3,3), activation='relu'))\n",
    "model.add(MaxPooling2D(pool_size=(2,2)))\n",
    "model.add(BatchNormalization())\n",
    "model.add(Conv2D(96, kernel_size=(3,3), activation='relu'))\n",
    "model.add(Dropout(0.2))\n",
    "model.add(Flatten())\n",
    "model.add(Dense(256, activation='relu'))\n",
    "model.add(Dropout(0.2))\n",
    "model.add(Dense(128, activation='relu'))\n",
    "model.add(Dropout(0.3))\n",
    "model.add(Dense(2, activation = 'softmax'))"
   ]
  },
  {
   "cell_type": "code",
   "execution_count": 42,
   "id": "retained-board",
   "metadata": {},
   "outputs": [],
   "source": [
    "trainImages = np.array([i[0] for i in im]).reshape(-1, img_height, img_width, 3)\n",
    "trainLabels = np.array([i[1] for i in im],dtype = \"object\") "
   ]
  },
  {
   "cell_type": "code",
   "execution_count": 43,
   "id": "covered-surge",
   "metadata": {},
   "outputs": [],
   "source": [
    "trainImages = np.asarray(trainImages).astype(np.int)\n",
    "trainLabels = np.asarray(trainLabels).astype(np.int)"
   ]
  },
  {
   "cell_type": "code",
   "execution_count": 44,
   "id": "utility-volleyball",
   "metadata": {},
   "outputs": [
    {
     "name": "stdout",
     "output_type": "stream",
     "text": [
      "[1464 1299]\n"
     ]
    }
   ],
   "source": [
    "print(sum(trainLabels))"
   ]
  },
  {
   "cell_type": "code",
   "execution_count": 49,
   "id": "basic-installation",
   "metadata": {},
   "outputs": [
    {
     "name": "stdout",
     "output_type": "stream",
     "text": [
      "2763\n"
     ]
    }
   ],
   "source": [
    "print(len(trainLabels))"
   ]
  },
  {
   "cell_type": "code",
   "execution_count": 45,
   "id": "eleven-revelation",
   "metadata": {},
   "outputs": [],
   "source": [
    "model.compile(loss='categorical_crossentropy', optimizer='adam', metrics = ['accuracy'])"
   ]
  },
  {
   "cell_type": "code",
   "execution_count": 46,
   "id": "through-grocery",
   "metadata": {},
   "outputs": [
    {
     "name": "stdout",
     "output_type": "stream",
     "text": [
      "Epoch 1/5\n",
      "2763/2763 [==============================] - 3s 1ms/step - loss: 0.9426 - accuracy: 0.5414\n",
      "Epoch 2/5\n",
      "2763/2763 [==============================] - 2s 859us/step - loss: 0.5797 - accuracy: 0.7032\n",
      "Epoch 3/5\n",
      "2763/2763 [==============================] - 2s 857us/step - loss: 0.5134 - accuracy: 0.7597\n",
      "Epoch 4/5\n",
      "2763/2763 [==============================] - 2s 857us/step - loss: 0.4310 - accuracy: 0.8024\n",
      "Epoch 5/5\n",
      "2763/2763 [==============================] - 2s 860us/step - loss: 0.3764 - accuracy: 0.8342\n"
     ]
    },
    {
     "data": {
      "text/plain": [
       "<keras.callbacks.callbacks.History at 0x19c524179e8>"
      ]
     },
     "execution_count": 46,
     "metadata": {},
     "output_type": "execute_result"
    }
   ],
   "source": [
    "model.fit(trainImages, trainLabels, batch_size = 50, epochs = 5, verbose = 1)"
   ]
  },
  {
   "cell_type": "code",
   "execution_count": 59,
   "id": "spatial-compensation",
   "metadata": {},
   "outputs": [],
   "source": [
    "im = load_test_data()"
   ]
  },
  {
   "cell_type": "code",
   "execution_count": 60,
   "id": "brown-bumper",
   "metadata": {},
   "outputs": [
    {
     "name": "stdout",
     "output_type": "stream",
     "text": [
      "(2763, 64, 64, 3)\n"
     ]
    }
   ],
   "source": [
    "testImages = np.array([i[0] for i in im]).reshape(-1, img_height, img_width, 3)\n",
    "testLabels = np.array([i[1] for i in im],dtype = \"object\") \n",
    "testImages = np.asarray(trainImages).astype(np.int)\n",
    "testLabels = np.asarray(trainLabels).astype(np.int)\n",
    "print(trainImages.shape)"
   ]
  },
  {
   "cell_type": "code",
   "execution_count": 61,
   "id": "tutorial-receipt",
   "metadata": {},
   "outputs": [
    {
     "name": "stdout",
     "output_type": "stream",
     "text": [
      "[1464 1299]\n"
     ]
    }
   ],
   "source": [
    "print(sum(testLabels))"
   ]
  },
  {
   "cell_type": "markdown",
   "id": "descending-assembly",
   "metadata": {},
   "source": [
    "## Model Evaluation"
   ]
  },
  {
   "cell_type": "code",
   "execution_count": 62,
   "id": "whole-merchant",
   "metadata": {},
   "outputs": [
    {
     "name": "stdout",
     "output_type": "stream",
     "text": [
      "47.339844703674316\n"
     ]
    }
   ],
   "source": [
    "loss, acc = model.evaluate(trainImages, trainLabels, verbose = 0)\n",
    "print(acc * 100)"
   ]
  }
 ],
 "metadata": {
  "kernelspec": {
   "display_name": "Python 3",
   "language": "python",
   "name": "python3"
  },
  "language_info": {
   "codemirror_mode": {
    "name": "ipython",
    "version": 3
   },
   "file_extension": ".py",
   "mimetype": "text/x-python",
   "name": "python",
   "nbconvert_exporter": "python",
   "pygments_lexer": "ipython3",
   "version": "3.7.9"
  }
 },
 "nbformat": 4,
 "nbformat_minor": 5
}
