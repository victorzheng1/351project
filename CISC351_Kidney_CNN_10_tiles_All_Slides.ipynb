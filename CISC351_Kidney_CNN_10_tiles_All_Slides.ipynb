{
 "cells": [
  {
   "cell_type": "code",
   "execution_count": 33,
   "id": "eight-spine",
   "metadata": {},
   "outputs": [],
   "source": [
    "import os\n",
    "import re\n",
    "import numpy as np\n",
    "import json\n",
    "from random import shuffle\n",
    "from PIL import Image\n",
    "import matplotlib.pyplot as plt\n",
    "\n",
    "label = json.load(open('D://CISC351//Group_Project_Data//CCRCC.json','r'))"
   ]
  },
  {
   "cell_type": "code",
   "execution_count": 34,
   "id": "aquatic-spoke",
   "metadata": {},
   "outputs": [
    {
     "data": {
      "text/plain": [
       "'\"_id\",\"Case_ID\",\"Specimen_ID\",\"Slide_ID\",\"Tumor\",\"Topographic_Site\",\"Specimen_Type\",\"Weight\",\"Tumor_Site\",\"Pathology\",\"Tumor_Histological_Type\",\"Tumor_Segment_Acceptable\",\"Percent_Tumor_Nuclei\",\"Percent_Total_Cellularity\",\"Percent_Necrosis\",\"Normal Segment Free of Tumor\",\"HasRadiology\",\"Radiology\",\"Genomics\",\"Proteomics\",\"Genomics_Available\",\"GDC Link\",\"Proteomics_Available\",\"PDC Link\",\"Gender\",\"Age\",\"Vital status at 12months follow up\",\"Vital status at 24months follow up\",\"Ethnicity\",\"Race\",\"Fully Qualified\"'"
      ]
     },
     "execution_count": 34,
     "metadata": {},
     "output_type": "execute_result"
    }
   ],
   "source": [
    "f = open(\"cohort.csv\",\"r\")\n",
    "all_dict = {} # id: subcategory\n",
    "allFiles = f.read()\n",
    "allFiles = allFiles.split('\\n')\n",
    "allFiles.pop(0)"
   ]
  },
  {
   "cell_type": "code",
   "execution_count": 35,
   "id": "inside-shooting",
   "metadata": {},
   "outputs": [],
   "source": [
    "for i in range(len(allFiles)):\n",
    "    allFiles[i] = allFiles[i].split(',')\n",
    "    all_dict[allFiles[i][3]] = allFiles[i][6]"
   ]
  },
  {
   "cell_type": "code",
   "execution_count": 36,
   "id": "entitled-shift",
   "metadata": {},
   "outputs": [
    {
     "name": "stdout",
     "output_type": "stream",
     "text": [
      "782\n"
     ]
    }
   ],
   "source": [
    "imgDir = os.listdir(\".//CCRCC_JPEG\")\n",
    "\n",
    "r = re.compile(\".*dzi\")\n",
    "\n",
    "newlist = list(filter(r.match,imgDir))\n",
    "for d in newlist:\n",
    "    imgDir.remove(d)\n",
    "\n",
    "print(len(imgDir))"
   ]
  },
  {
   "cell_type": "code",
   "execution_count": 104,
   "id": "coral-employee",
   "metadata": {},
   "outputs": [],
   "source": [
    "def crop(input):\n",
    "    im = Image.open(input)\n",
    "    imgwidth, imgheight = im.size\n",
    "    \n",
    "    box = (224, 224, 288, 288)\n",
    "    a = im.crop(box)\n",
    "    #o.save(os.path.join(path,\"PNG\",\"%s\" % page,\"IMG-%s.png\" % k))\n",
    "    return a       \n",
    "\n",
    "def load_training_data():\n",
    "    train_data = []\n",
    "    \n",
    "    for j in range(len(imgDir)):\n",
    "        \n",
    "    #for j in range(0, 5):\n",
    "        if (all_dict['\"'+imgDir[j].replace('_files','')+'\"']==\"\\\"normal_tissue\\\"\"):\n",
    "            label = np.array([1,0])\n",
    "        \n",
    "        else:\n",
    "            label = np.array([0,1])\n",
    "                \n",
    "        for img in os.listdir(\".//CCRCC_JPEG//\"+imgDir[j]+\"//20.0\")[0:10]:\n",
    "            path = os.path.join(\".\\\\CCRCC_JPEG\\\\\"+imgDir[j]+\"\\\\20.0\", img)\n",
    "            \n",
    "            #img = Image.open(path)\n",
    "            img = crop(path)\n",
    "            train_data.append([np.array(img), label])\n",
    "            \n",
    "    \n",
    "    shuffle(train_data)\n",
    "    return train_data"
   ]
  },
  {
   "cell_type": "code",
   "execution_count": 123,
   "id": "instructional-blues",
   "metadata": {},
   "outputs": [],
   "source": [
    "def load_test_data():\n",
    "    train_data = []\n",
    "    \n",
    "    for j in range(len(imgDir)):\n",
    "        if (all_dict['\"'+imgDir[j].replace('_files','')+'\"']==\"\\\"normal_tissue\\\"\"):\n",
    "            label = np.array([1,0])\n",
    "        \n",
    "        else:\n",
    "            label = np.array([0,1])\n",
    "                \n",
    "        for img in os.listdir(\".//CCRCC_JPEG//\"+imgDir[j]+\"//20.0\")[10:15]:\n",
    "            path = os.path.join(\".\\\\CCRCC_JPEG\\\\\"+imgDir[j]+\"\\\\20.0\", img)\n",
    "            \n",
    "            #img = Image.open(path)\n",
    "            img = crop(path)\n",
    "            train_data.append([np.array(img), label])\n",
    "    \n",
    "    shuffle(train_data)\n",
    "    return train_data"
   ]
  },
  {
   "cell_type": "code",
   "execution_count": 132,
   "id": "wrapped-quantity",
   "metadata": {},
   "outputs": [
    {
     "data": {
      "text/plain": [
       "<matplotlib.image.AxesImage at 0x19c141597f0>"
      ]
     },
     "execution_count": 132,
     "metadata": {},
     "output_type": "execute_result"
    },
    {
     "data": {
      "image/png": "[encoded data removed]",
      "text/plain": [
       "<Figure size 432x288 with 1 Axes>"
      ]
     },
     "metadata": {
      "needs_background": "light"
     },
     "output_type": "display_data"
    }
   ],
   "source": [
    "# function creates tensors that are too large for memory. Need to figure out another way to build the tensors. Number of images per directory found in the next cell.\n",
    "im = load_training_data()\n",
    "plt.imshow(im[0][0])"
   ]
  },
  {
   "cell_type": "code",
   "execution_count": 106,
   "id": "transsexual-knife",
   "metadata": {},
   "outputs": [],
   "source": [
    "import tensorflow\n",
    "import keras\n",
    "from keras.models import Sequential\n",
    "from keras.layers import Dense, Dropout, Flatten\n",
    "from keras.layers import Conv2D, MaxPooling2D\n",
    "from keras.layers. normalization import BatchNormalization\n",
    "\n",
    "model = Sequential()"
   ]
  },
  {
   "cell_type": "code",
   "execution_count": 107,
   "id": "similar-serial",
   "metadata": {},
   "outputs": [],
   "source": [
    "img_height = 64\n",
    "img_width = 64\n",
    "\n",
    "model.add(Conv2D(32, kernel_size = (3, 3), activation='relu', input_shape=(img_height,img_width, 3)))\n",
    "model.add(MaxPooling2D(pool_size=(2,2)))\n",
    "model.add(BatchNormalization())\n",
    "model.add(Conv2D(64, kernel_size=(3,3), activation='relu'))\n",
    "model.add(MaxPooling2D(pool_size=(2,2)))\n",
    "model.add(BatchNormalization())\n",
    "model.add(Conv2D(96, kernel_size=(3,3), activation='relu'))\n",
    "model.add(Dropout(0.2))\n",
    "model.add(Flatten())\n",
    "model.add(Dense(256, activation='relu'))\n",
    "model.add(Dropout(0.2))\n",
    "model.add(Dense(128, activation='relu'))\n",
    "model.add(Dropout(0.3))\n",
    "model.add(Dense(2, activation = 'softmax'))"
   ]
  },
  {
   "cell_type": "code",
   "execution_count": 133,
   "id": "american-cooking",
   "metadata": {},
   "outputs": [
    {
     "name": "stdout",
     "output_type": "stream",
     "text": [
      "(7540, 64, 64, 3)\n"
     ]
    }
   ],
   "source": [
    "trainImages = np.array([i[0] for i in im]).reshape(-1, img_height, img_width, 3)\n",
    "trainLabels = np.array([i[1] for i in im],dtype = \"object\")\n",
    "print(testImages.shape)"
   ]
  },
  {
   "cell_type": "code",
   "execution_count": 134,
   "id": "turkish-scholarship",
   "metadata": {},
   "outputs": [],
   "source": [
    "trainImages = np.asarray(trainImages).astype(np.int)\n",
    "trainLabels = np.asarray(trainLabels).astype(np.int)"
   ]
  },
  {
   "cell_type": "code",
   "execution_count": 135,
   "id": "elementary-capture",
   "metadata": {},
   "outputs": [
    {
     "name": "stdout",
     "output_type": "stream",
     "text": [
      "[2385 5155]\n"
     ]
    }
   ],
   "source": [
    "print(sum(trainLabels))"
   ]
  },
  {
   "cell_type": "code",
   "execution_count": 137,
   "id": "communist-mexico",
   "metadata": {},
   "outputs": [
    {
     "name": "stdout",
     "output_type": "stream",
     "text": [
      "7540\n"
     ]
    }
   ],
   "source": [
    "print(len(trainLabels))"
   ]
  },
  {
   "cell_type": "code",
   "execution_count": 112,
   "id": "organized-horizontal",
   "metadata": {},
   "outputs": [],
   "source": [
    "model.compile(loss='categorical_crossentropy', optimizer='adam', metrics = ['accuracy'])"
   ]
  },
  {
   "cell_type": "code",
   "execution_count": 113,
   "id": "minute-disclaimer",
   "metadata": {},
   "outputs": [
    {
     "name": "stdout",
     "output_type": "stream",
     "text": [
      "Epoch 1/5\n",
      "7540/7540 [==============================] - 7s 947us/step - loss: 0.7010 - accuracy: 0.6525\n",
      "Epoch 2/5\n",
      "7540/7540 [==============================] - 6s 857us/step - loss: 0.6048 - accuracy: 0.6842\n",
      "Epoch 3/5\n",
      "7540/7540 [==============================] - 6s 858us/step - loss: 0.5897 - accuracy: 0.69891s - loss:\n",
      "Epoch 4/5\n",
      "7540/7540 [==============================] - 6s 858us/step - loss: 0.5702 - accuracy: 0.7065\n",
      "Epoch 5/5\n",
      "7540/7540 [==============================] - 6s 856us/step - loss: 0.5588 - accuracy: 0.7198\n"
     ]
    },
    {
     "data": {
      "text/plain": [
       "<keras.callbacks.callbacks.History at 0x19c153a3f98>"
      ]
     },
     "execution_count": 113,
     "metadata": {},
     "output_type": "execute_result"
    }
   ],
   "source": [
    "model.fit(trainImages, trainLabels, batch_size = 50, epochs = 5, verbose = 1)"
   ]
  },
  {
   "cell_type": "code",
   "execution_count": 128,
   "id": "continuing-opposition",
   "metadata": {},
   "outputs": [],
   "source": [
    "im_Test = load_test_data()"
   ]
  },
  {
   "cell_type": "code",
   "execution_count": 141,
   "id": "derived-symphony",
   "metadata": {},
   "outputs": [
    {
     "name": "stdout",
     "output_type": "stream",
     "text": [
      "7540\n"
     ]
    }
   ],
   "source": [
    "print(len(im))"
   ]
  },
  {
   "cell_type": "code",
   "execution_count": 142,
   "id": "british-albany",
   "metadata": {},
   "outputs": [
    {
     "name": "stdout",
     "output_type": "stream",
     "text": [
      "(3724, 64, 64, 3)\n"
     ]
    }
   ],
   "source": [
    "testImages = np.array([i[0] for i in im_Test]).reshape(-1, img_height, img_width, 3)\n",
    "testLabels = np.array([i[1] for i in im_Test],dtype = \"object\") \n",
    "testImages = np.asarray(testImages).astype(np.int)\n",
    "testLabels = np.asarray(testLabels).astype(np.int)\n",
    "print(testImages.shape)"
   ]
  },
  {
   "cell_type": "code",
   "execution_count": 143,
   "id": "facial-doctrine",
   "metadata": {},
   "outputs": [
    {
     "name": "stdout",
     "output_type": "stream",
     "text": [
      "[1167 2557]\n"
     ]
    }
   ],
   "source": [
    "print(sum(testLabels))"
   ]
  },
  {
   "cell_type": "code",
   "execution_count": 144,
   "id": "supposed-roommate",
   "metadata": {},
   "outputs": [
    {
     "name": "stdout",
     "output_type": "stream",
     "text": [
      "72.13528156280518\n"
     ]
    }
   ],
   "source": [
    "loss, acc = model.evaluate(trainImages, trainLabels, verbose = 0)\n",
    "print(acc * 100)"
   ]
  }
 ],
 "metadata": {
  "kernelspec": {
   "display_name": "Python 3",
   "language": "python",
   "name": "python3"
  },
  "language_info": {
   "codemirror_mode": {
    "name": "ipython",
    "version": 3
   },
   "file_extension": ".py",
   "mimetype": "text/x-python",
   "name": "python",
   "nbconvert_exporter": "python",
   "pygments_lexer": "ipython3",
   "version": "3.7.0"
  }
 },
 "nbformat": 4,
 "nbformat_minor": 5
}
